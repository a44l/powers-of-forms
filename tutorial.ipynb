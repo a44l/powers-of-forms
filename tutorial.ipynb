{
 "cells": [
  {
   "cell_type": "markdown",
   "metadata": {},
   "source": [
    "## Tutorial 1\n",
    "\n",
    "This notebook accompanies Example 3.3 in the article and demonstrates the main functionality of the code in this repository. It solves the power sum problem\n",
    "\\begin{align*}\n",
    "\tq_1^2 + q_2^2 &= 2X^4 - 2X^3Y + 3X^2Y^2 - 8XY^3 + 5Y^4 = f_2 \\\\\n",
    "\tq_1^3 + q_2^3 &= -9X^5Y + 18X^4Y^2 - 9X^3Y^3 + 9X^2 Y^4 - 18XY^5 + 9Y^6 = f_3\n",
    "\\end{align*}\n",
    "\n",
    "Let us start by defining $f_2$ and $f_3$. "
   ]
  },
  {
   "cell_type": "code",
   "execution_count": 135,
   "metadata": {},
   "outputs": [
    {
     "data": {
      "text/latex": [
       "$$ 2x^{4} - 2yx^{3} + 3y^{2}x^{2} - 8y^{3}x + 5y^{4} $$"
      ],
      "text/plain": [
       "2x⁴ - 2yx³ + 3y²x² - 8y³x + 5y⁴"
      ]
     },
     "metadata": {},
     "output_type": "display_data"
    },
    {
     "data": {
      "text/latex": [
       "$$ -9yx^{5} + 18y^{2}x^{4} - 9y^{3}x^{3} + 9y^{4}x^{2} - 18y^{5}x + 9y^{6} $$"
      ],
      "text/plain": [
       "-9yx⁵ + 18y²x⁴ - 9y³x³ + 9y⁴x² - 18y⁵x + 9y⁶"
      ]
     },
     "metadata": {},
     "output_type": "display_data"
    },
    {
     "name": "stderr",
     "output_type": "stream",
     "text": [
      "\u001b[32m\u001b[1m  Activating\u001b[22m\u001b[39m project at `~/Dokumente/git repositories/powers-of-forms/SoSupport`\n"
     ]
    }
   ],
   "source": [
    "using Pkg; Pkg.activate(\"SoSupport\"); \n",
    "using MosekTools; default_solver=Symbol(Mosek); # change to your favourite solver. MOSEK needs a licence. Comment to use the COSMO solver as a default.  \n",
    "include(\"src/pof-decomp.jl\");\n",
    "using LinearAlgebra; using DataFrames; const dp = DynamicPolynomials;\n",
    "\n",
    "@polyvar y x;\n",
    "f2 = 2x^4 - 2x^3*y + 3x^2*y^2 - 8x*y^3 + 5y^4\n",
    "f3 = -9x^5*y + 18x^4*y^2 - 9x^3*y^3 + 9x^2*y^4 - 18x*y^5 + 9y^6\n",
    "display(f2); display(f3);"
   ]
  },
  {
   "cell_type": "markdown",
   "metadata": {},
   "source": [
    "First, we compute the unique Gram matrix $G$ of $f_2$ with an SDP solver.\n"
   ]
  },
  {
   "cell_type": "code",
   "execution_count": 136,
   "metadata": {},
   "outputs": [
    {
     "data": {
      "text/plain": [
       "3×3 SymMatrix{Float64}:\n",
       "  2.0  -1.0  -1.0\n",
       " -1.0   5.0  -4.0\n",
       " -1.0  -4.0   5.0"
      ]
     },
     "metadata": {},
     "output_type": "display_data"
    },
    {
     "name": "stdout",
     "output_type": "stream",
     "text": [
      "Monomials: [x², yx, y²]\n"
     ]
    }
   ],
   "source": [
    "s = calc_sos_attributes(f2);\n",
    "display(s.G); \n",
    "println(\"Monomials: [x², yx, y²]\")\n"
   ]
  },
  {
   "cell_type": "markdown",
   "metadata": {},
   "source": [
    "The following information was computed with semidefinite programming. In particular, $f_2$ does indeed have a unique Gram matrix.  \n"
   ]
  },
  {
   "cell_type": "code",
   "execution_count": 137,
   "metadata": {},
   "outputs": [
    {
     "data": {
      "text/html": [
       "<div><div style = \"float: left;\"><span>13×3 DataFrame</span></div><div style = \"clear: both;\"></div></div><div class = \"data-frame\" style = \"overflow-x: scroll;\"><table class = \"data-frame\" style = \"margin-bottom: 6px;\"><thead><tr class = \"header\"><th class = \"rowNumber\" style = \"font-weight: bold; text-align: right;\">Row</th><th style = \"text-align: left;\">Parameter</th><th style = \"text-align: left;\">Value</th><th style = \"text-align: left;\">Explanation</th></tr><tr class = \"subheader headerLastRow\"><th class = \"rowNumber\" style = \"font-weight: bold; text-align: right;\"></th><th title = \"Symbol\" style = \"text-align: left;\">Symbol</th><th title = \"Any\" style = \"text-align: left;\">Any</th><th title = \"String\" style = \"text-align: left;\">String</th></tr></thead><tbody><tr><td class = \"rowNumber\" style = \"font-weight: bold; text-align: right;\">1</td><td style = \"text-align: left;\">n</td><td style = \"text-align: left;\">2</td><td style = \"text-align: left;\">No. of variables</td></tr><tr><td class = \"rowNumber\" style = \"font-weight: bold; text-align: right;\">2</td><td style = \"text-align: left;\">k</td><td style = \"text-align: left;\">2</td><td style = \"text-align: left;\">degree</td></tr><tr><td class = \"rowNumber\" style = \"font-weight: bold; text-align: right;\">3</td><td style = \"text-align: left;\">solver</td><td style = \"text-align: left;\">Mosek</td><td style = \"text-align: left;\">SDP solver</td></tr><tr><td class = \"rowNumber\" style = \"font-weight: bold; text-align: right;\">4</td><td style = \"text-align: left;\">solve_time</td><td style = \"text-align: left;\">0.00327497</td><td style = \"text-align: left;\">SDP solve time for (G, M_E)</td></tr><tr><td class = \"rowNumber\" style = \"font-weight: bold; text-align: right;\">5</td><td style = \"text-align: left;\">digits</td><td style = \"text-align: left;\">7</td><td style = \"text-align: left;\">Threshold for truncating eigenvalues (in digits)</td></tr><tr><td class = \"rowNumber\" style = \"font-weight: bold; text-align: right;\">6</td><td style = \"text-align: left;\">uniquely_sos_representable</td><td style = \"text-align: left;\">true</td><td style = \"text-align: left;\"></td></tr><tr><td class = \"rowNumber\" style = \"font-weight: bold; text-align: right;\">7</td><td style = \"text-align: left;\">dual_nondegenerate</td><td style = \"text-align: left;\">true</td><td style = \"text-align: left;\">Whether f lies on exposed face of Σ_2k</td></tr><tr><td class = \"rowNumber\" style = \"font-weight: bold; text-align: right;\">8</td><td style = \"text-align: left;\">dim_sosupp</td><td style = \"text-align: left;\">2</td><td style = \"text-align: left;\"></td></tr><tr><td class = \"rowNumber\" style = \"font-weight: bold; text-align: right;\">9</td><td style = \"text-align: left;\">spectral_gap_G</td><td style = \"text-align: left;\">(3.0, 2.13163e-14)</td><td style = \"text-align: left;\">(smallest nontruncated, largest truncated) eigval</td></tr><tr><td class = \"rowNumber\" style = \"font-weight: bold; text-align: right;\">10</td><td style = \"text-align: left;\">corank_dual</td><td style = \"text-align: left;\">2</td><td style = \"text-align: left;\">corank of M_E</td></tr><tr><td class = \"rowNumber\" style = \"font-weight: bold; text-align: right;\">11</td><td style = \"text-align: left;\">spectral_gap_M_E</td><td style = \"text-align: left;\">(3.92533, 6.36566e-15)</td><td style = \"text-align: left;\">(smallest nontruncated, largest truncated) eigval</td></tr><tr><td class = \"rowNumber\" style = \"font-weight: bold; text-align: right;\">12</td><td style = \"text-align: left;\">rank_G_boundary</td><td style = \"text-align: left;\">2</td><td style = \"text-align: left;\"></td></tr><tr><td class = \"rowNumber\" style = \"font-weight: bold; text-align: right;\">13</td><td style = \"text-align: left;\">spectral_gap_G_boundary</td><td style = \"text-align: left;\">(3.0, 4.13891e-13)</td><td style = \"text-align: left;\"></td></tr></tbody></table></div>"
      ],
      "text/latex": [
       "\\begin{tabular}{r|ccc}\n",
       "\t& Parameter & Value & Explanation\\\\\n",
       "\t\\hline\n",
       "\t& Symbol & Any & String\\\\\n",
       "\t\\hline\n",
       "\t1 & n & 2 & No. of variables \\\\\n",
       "\t2 & k & 2 & degree \\\\\n",
       "\t3 & solver & Mosek & SDP solver \\\\\n",
       "\t4 & solve\\_time & 0.00327497 & SDP solve time for (G, M\\_E) \\\\\n",
       "\t5 & digits & 7 & Threshold for truncating eigenvalues (in digits) \\\\\n",
       "\t6 & uniquely\\_sos\\_representable & 1 &  \\\\\n",
       "\t7 & dual\\_nondegenerate & 1 & Whether f lies on exposed face of Σ\\_2k \\\\\n",
       "\t8 & dim\\_sosupp & 2 &  \\\\\n",
       "\t9 & spectral\\_gap\\_G & (3.0, 2.13163e-14) & (smallest nontruncated, largest truncated) eigval \\\\\n",
       "\t10 & corank\\_dual & 2 & corank of M\\_E \\\\\n",
       "\t11 & spectral\\_gap\\_M\\_E & (3.92533, 6.36566e-15) & (smallest nontruncated, largest truncated) eigval \\\\\n",
       "\t12 & rank\\_G\\_boundary & 2 &  \\\\\n",
       "\t13 & spectral\\_gap\\_G\\_boundary & (3.0, 4.13891e-13) &  \\\\\n",
       "\\end{tabular}\n"
      ],
      "text/plain": [
       "\u001b[1m13×3 DataFrame\u001b[0m\n",
       "\u001b[1m Row \u001b[0m│\u001b[1m Parameter                  \u001b[0m\u001b[1m Value                  \u001b[0m\u001b[1m Explanation        \u001b[0m ⋯\n",
       "     │\u001b[90m Symbol                     \u001b[0m\u001b[90m Any                    \u001b[0m\u001b[90m String             \u001b[0m ⋯\n",
       "─────┼──────────────────────────────────────────────────────────────────────────\n",
       "   1 │ n                           2                       No. of variables    ⋯\n",
       "   2 │ k                           2                       degree\n",
       "   3 │ solver                      Mosek                   SDP solver\n",
       "   4 │ solve_time                  0.00327497              SDP solve time for\n",
       "   5 │ digits                      7                       Threshold for trunc ⋯\n",
       "   6 │ uniquely_sos_representable  true\n",
       "   7 │ dual_nondegenerate          true                    Whether f lies on e\n",
       "   8 │ dim_sosupp                  2\n",
       "   9 │ spectral_gap_G              (3.0, 2.13163e-14)      (smallest nontrunca ⋯\n",
       "  10 │ corank_dual                 2                       corank of M_E\n",
       "  11 │ spectral_gap_M_E            (3.92533, 6.36566e-15)  (smallest nontrunca\n",
       "  12 │ rank_G_boundary             2\n",
       "  13 │ spectral_gap_G_boundary     (3.0, 4.13891e-13)                          ⋯\n",
       "\u001b[36m                                                                1 column omitted\u001b[0m"
      ]
     },
     "metadata": {},
     "output_type": "display_data"
    }
   ],
   "source": [
    "display(report(s));"
   ]
  },
  {
   "cell_type": "markdown",
   "metadata": {},
   "source": [
    "The sum-of-squares support $u = (u_1, u_2)$ is given by the image of G. For the sake of exposition, we rescale and round the polynomials such that their x*y coefficient equals -1. \n"
   ]
  },
  {
   "cell_type": "code",
   "execution_count": 138,
   "metadata": {},
   "outputs": [
    {
     "data": {
      "text/plain": [
       "2-element Vector{Polynomial{DynamicPolynomials.Commutative{DynamicPolynomials.CreationOrder}, Graded{LexOrder}, Float64}}:\n",
       " 0.8165x² - 0.4082yx - 0.4082y²\n",
       " -0.7071yx + 0.7071y²"
      ]
     },
     "metadata": {},
     "output_type": "display_data"
    },
    {
     "data": {
      "text/plain": [
       "2-element Vector{Polynomial{DynamicPolynomials.Commutative{DynamicPolynomials.CreationOrder}, Graded{LexOrder}, Float64}}:\n",
       " 2.0x² - yx - y²\n",
       " -yx + y²"
      ]
     },
     "metadata": {},
     "output_type": "display_data"
    }
   ],
   "source": [
    "display(round.(s.sosupp, digits=4)); # sos support, with coefficient vectors normalized to unit length. \n",
    "\n",
    "c = abs.(dp.coefficient.(s.sosupp, x*y))\n",
    "u_normalized = s.sosupp ./ c;\n",
    "u_normalized = round.(u_normalized, digits = 6); \n",
    "\n",
    "display(u_normalized) # sos support, with coefficient vectors normalized s.t. the x*y coefficient equals 1. \n"
   ]
  },
  {
   "cell_type": "markdown",
   "metadata": {},
   "source": [
    "We now use the decomposition algorithm from Theorem 2.3. Note that the argument `u` for the function `pof_decompose` is optional. If no value is provided, then pof_decompose calls `calc_sos_attributes` to compute the sum-of-squares support. "
   ]
  },
  {
   "cell_type": "code",
   "execution_count": 157,
   "metadata": {},
   "outputs": [
    {
     "name": "stdout",
     "output_type": "stream",
     "text": [
      "g2 = 4.5*Y[2]^2 + 0.5*Y[1]^2\n",
      "g3 = 6.75*Y[2]^3 + 2.25*Y[1]^2*Y[2]\n",
      "ℓ1 = 1.5*Y[2] + 0.5*Y[1]\n",
      "ℓ2 = 1.5*Y[2] - 0.5*Y[1]\n"
     ]
    }
   ],
   "source": [
    "dec = pof_decompose(f2, f3; u=u_normalized);\n",
    "\n",
    "# similarly, renormalize g2 and g3 to fit \n",
    "g2 = round.(dec.g_2, digits=6); println(\"g2 = $g2\");\n",
    "g3 = round.(dec.g_3, digits=6); println(\"g3 = $g3\");\n",
    "ℓ1 = round.(dec.ℓ[1], digits=6); println(\"ℓ1 = $ℓ1\");\n",
    "ℓ2 = round.(dec.ℓ[2], digits=6); println(\"ℓ2 = $ℓ2\");\n"
   ]
  },
  {
   "cell_type": "markdown",
   "metadata": {},
   "source": [
    "The power sum decomposition is obtained via backsubstitution. This gives the desired solution: "
   ]
  },
  {
   "cell_type": "code",
   "execution_count": 159,
   "metadata": {},
   "outputs": [
    {
     "name": "stdout",
     "output_type": "stream",
     "text": [
      "q1 = x^2 - 2.0*y*x + y^2\n",
      "q2 = -x^2 - y*x + 2.0*y^2\n"
     ]
    }
   ],
   "source": [
    "q1 = round.(dec.q[1], digits=6); println(\"q1 = $q1\"); # the same as ℓ1(dec.Y=>u_normalized)\n",
    "q2 = round.(dec.q[2], digits=6); println(\"q2 = $q2\"); # the same as ℓ2(dec.Y=>u_normalized)"
   ]
  },
  {
   "cell_type": "markdown",
   "metadata": {},
   "source": [
    "Note that `pof_decompose` throws an error, if $u_1,\\ldots,u_N$ are not cubically independent. As a sanity check, we may use the function `is_cubically_independent`. Aside from a true/false answer, it also computes the minimum singular value of the coefficient matrix of the 3-fold products $u_iu_ju_k$.  "
   ]
  },
  {
   "cell_type": "code",
   "execution_count": 33,
   "metadata": {},
   "outputs": [
    {
     "data": {
      "text/plain": [
       "(true, 3.307649321514332)"
      ]
     },
     "metadata": {},
     "output_type": "display_data"
    }
   ],
   "source": [
    "is_cubically_independent(u_normalized)"
   ]
  }
 ],
 "metadata": {
  "kernelspec": {
   "display_name": "Julia 1.10.2",
   "language": "julia",
   "name": "julia-1.10"
  },
  "language_info": {
   "file_extension": ".jl",
   "mimetype": "application/julia",
   "name": "julia",
   "version": "1.10.2"
  }
 },
 "nbformat": 4,
 "nbformat_minor": 4
}
