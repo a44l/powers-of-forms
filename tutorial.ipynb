{
 "cells": [
  {
   "attachments": {},
   "cell_type": "markdown",
   "metadata": {},
   "source": [
    "## Tutorial\n",
    "\n",
    "This notebook demonstrates the main functionalities of the code in this repository. \n",
    "1. Methods to determine whether a given SoS form $f$ of degree $2k$ is uniquely Sum-of-Squares representable. It also allows to compute the Sum-of-Squares support, check nondegeneracy of the dual etc.  \n",
    "2. An implementation of Algorithm 1 in the accompanying paper: It finds the decomposition $$ f_d = \\sum_{i=1}^m \\lambda_i q_i^d $$\n",
    "where $f_d$ is given for $d = 2, 3$, $\\lambda_i$ are positive weights and $q_1,\\ldots,q_m$ are $k$-forms. It assumes that the Sum-of-Squares support of $f_2$ is spanned by polynomials that are algebraically independent up to degree $3$. "
   ]
  },
  {
   "attachments": {},
   "cell_type": "markdown",
   "metadata": {},
   "source": [
    "### Ex 1: A family of quartics of quadratic length that is uniquely Sum-of-Squares representable\n",
    "\n",
    "We consider the family\n",
    "$$\n",
    "    q_{ijk} = (X_i + X_j + X_k)(Y_i + Y_j + Y_k), \\qquad (i,j,k \\in \\{1,\\ldots, n\\}, \\quad i+j+k \\equiv_n 0)\n",
    "$$\n",
    "of $m=\\Theta(n^2)$ many quadratics and \n",
    "$$\n",
    "    f_2 = \\sum_{\\substack{i,j,k=1, \\\\  i+j+k \\equiv_n 0}}^n q_{ijk}^2.\n",
    "$$\n",
    "This notebook verifies for small values of $n$ that $f_2$ is uniquely Sum-of-Squares representable and that the supporting face of $f$ in $Σ_{2k}$ is exposed. "
   ]
  },
  {
   "cell_type": "code",
   "execution_count": 2,
   "metadata": {},
   "outputs": [
    {
     "name": "stderr",
     "output_type": "stream",
     "text": [
      "\u001b[32m\u001b[1m  Activating\u001b[22m\u001b[39m project at `~/Dokumente/git repositories/powers-of-forms/SoSupport`\n"
     ]
    }
   ],
   "source": [
    "using Pkg;\n",
    "Pkg.activate(\"SoSupport\");\n",
    "using MosekTools; default_solver=Symbol(Mosek); # change to your favourite solver. MOSEK needs a licence. Uncomment to use the COSMO solver as a default.  \n",
    "include(\"src/sosupport.jl\");\n",
    "include(\"src/random-quadratics.jl\");\n",
    "using LinearAlgebra # e.g. for rank \n",
    "using DataFrames;\n",
    "# Random, DataFrames, CSV, StatsBase, COSMO"
   ]
  },
  {
   "cell_type": "code",
   "execution_count": 3,
   "metadata": {},
   "outputs": [],
   "source": [
    "n = 6;\n",
    "k = 2;\n",
    "ranktol = 7; # measured in digits\n",
    "feas_tolerance = 1e-8\n",
    "opt_tolerance = 1000;\n",
    "@polyvar X[1:n] Y[1:n];\n",
    "q = [(X[i] + X[j] + X[k])*(Y[i] + Y[j] + Y[k])  for i=1:n, j=1:n, k=1:n if (i+j+k)%n == 0 && i≤j≤k] \n",
    "# q = [(X[i] + X[j] + X[k])^2 - (Y[i] + Y[j] + Y[k])^2  for i=1:n, j=1:n, k=1:n if (i+j+k)%n == 0 && i≤j≤k] # alternative family that also yields a uniquely representable SOS.\n",
    "m = length(q);\n",
    "λ = [rand(1:m) for i=1:m]; # random weights\n",
    "f₂ = sum(λ[i]*q[i]^2 for i=1:m);\n",
    "\n",
    "# uncomment to check unique SOS representability in a neighbourhood\n",
    "# ε = 0.01;\n",
    "# q_noisy = q .+ ε.* [gaussian_splitvar_quadratic(X, Y) for i=1:m]\n",
    "# f₂ = sum(q_noisy[i]^2 for i=1:m)"
   ]
  },
  {
   "cell_type": "code",
   "execution_count": 4,
   "metadata": {},
   "outputs": [
    {
     "data": {
      "text/html": [
       "<div><div style = \"float: left;\"><span>14×3 DataFrame</span></div><div style = \"clear: both;\"></div></div><div class = \"data-frame\" style = \"overflow-x: scroll;\"><table class = \"data-frame\" style = \"margin-bottom: 6px;\"><thead><tr class = \"header\"><th class = \"rowNumber\" style = \"font-weight: bold; text-align: right;\">Row</th><th style = \"text-align: left;\">Parameter</th><th style = \"text-align: left;\">Value</th><th style = \"text-align: left;\">Explanation</th></tr><tr class = \"subheader headerLastRow\"><th class = \"rowNumber\" style = \"font-weight: bold; text-align: right;\"></th><th title = \"Symbol\" style = \"text-align: left;\">Symbol</th><th title = \"Any\" style = \"text-align: left;\">Any</th><th title = \"String\" style = \"text-align: left;\">String</th></tr></thead><tbody><tr><td class = \"rowNumber\" style = \"font-weight: bold; text-align: right;\">1</td><td style = \"text-align: left;\">m</td><td style = \"text-align: left;\">10</td><td style = \"text-align: left;\">No. of addends</td></tr><tr><td class = \"rowNumber\" style = \"font-weight: bold; text-align: right;\">2</td><td style = \"text-align: left;\">n</td><td style = \"text-align: left;\">12</td><td style = \"text-align: left;\">No. of variables</td></tr><tr><td class = \"rowNumber\" style = \"font-weight: bold; text-align: right;\">3</td><td style = \"text-align: left;\">k</td><td style = \"text-align: left;\">2</td><td style = \"text-align: left;\">degree</td></tr><tr><td class = \"rowNumber\" style = \"font-weight: bold; text-align: right;\">4</td><td style = \"text-align: left;\">solver</td><td style = \"text-align: left;\">Mosek</td><td style = \"text-align: left;\">SDP solver</td></tr><tr><td class = \"rowNumber\" style = \"font-weight: bold; text-align: right;\">5</td><td style = \"text-align: left;\">solve_time</td><td style = \"text-align: left;\">0.0640685</td><td style = \"text-align: left;\">SDP solve time for (G, M_E)</td></tr><tr><td class = \"rowNumber\" style = \"font-weight: bold; text-align: right;\">6</td><td style = \"text-align: left;\">digits</td><td style = \"text-align: left;\">7</td><td style = \"text-align: left;\">Threshold for truncating eigenvalues (in digits)</td></tr><tr><td class = \"rowNumber\" style = \"font-weight: bold; text-align: right;\">7</td><td style = \"text-align: left;\">uniquely_sos_representable</td><td style = \"text-align: left;\">true</td><td style = \"text-align: left;\"></td></tr><tr><td class = \"rowNumber\" style = \"font-weight: bold; text-align: right;\">8</td><td style = \"text-align: left;\">dual_nondegenerate</td><td style = \"text-align: left;\">true</td><td style = \"text-align: left;\">Whether f lies on exposed face of Σ_2k</td></tr><tr><td class = \"rowNumber\" style = \"font-weight: bold; text-align: right;\">9</td><td style = \"text-align: left;\">dim_sosupp</td><td style = \"text-align: left;\">10</td><td style = \"text-align: left;\"></td></tr><tr><td class = \"rowNumber\" style = \"font-weight: bold; text-align: right;\">10</td><td style = \"text-align: left;\">spectral_gap_G</td><td style = \"text-align: left;\">(6.36244, 2.11238e-12)</td><td style = \"text-align: left;\">(smallest nontruncated, largest truncated) eigval</td></tr><tr><td class = \"rowNumber\" style = \"font-weight: bold; text-align: right;\">11</td><td style = \"text-align: left;\">corank_dual</td><td style = \"text-align: left;\">10</td><td style = \"text-align: left;\">corank of M_E</td></tr><tr><td class = \"rowNumber\" style = \"font-weight: bold; text-align: right;\">12</td><td style = \"text-align: left;\">spectral_gap_M_E</td><td style = \"text-align: left;\">(46.4188, 1.37625e-11)</td><td style = \"text-align: left;\">(smallest nontruncated, largest truncated) eigval</td></tr><tr><td class = \"rowNumber\" style = \"font-weight: bold; text-align: right;\">13</td><td style = \"text-align: left;\">rank_G_boundary</td><td style = \"text-align: left;\">10</td><td style = \"text-align: left;\"></td></tr><tr><td class = \"rowNumber\" style = \"font-weight: bold; text-align: right;\">14</td><td style = \"text-align: left;\">spectral_gap_G_boundary</td><td style = \"text-align: left;\">(6.36244, 3.82639e-10)</td><td style = \"text-align: left;\"></td></tr></tbody></table></div>"
      ],
      "text/latex": [
       "\\begin{tabular}{r|ccc}\n",
       "\t& Parameter & Value & Explanation\\\\\n",
       "\t\\hline\n",
       "\t& Symbol & Any & String\\\\\n",
       "\t\\hline\n",
       "\t1 & m & 10 & No. of addends \\\\\n",
       "\t2 & n & 12 & No. of variables \\\\\n",
       "\t3 & k & 2 & degree \\\\\n",
       "\t4 & solver & Mosek & SDP solver \\\\\n",
       "\t5 & solve\\_time & 0.0640685 & SDP solve time for (G, M\\_E) \\\\\n",
       "\t6 & digits & 7 & Threshold for truncating eigenvalues (in digits) \\\\\n",
       "\t7 & uniquely\\_sos\\_representable & 1 &  \\\\\n",
       "\t8 & dual\\_nondegenerate & 1 & Whether f lies on exposed face of Σ\\_2k \\\\\n",
       "\t9 & dim\\_sosupp & 10 &  \\\\\n",
       "\t10 & spectral\\_gap\\_G & (6.36244, 2.11238e-12) & (smallest nontruncated, largest truncated) eigval \\\\\n",
       "\t11 & corank\\_dual & 10 & corank of M\\_E \\\\\n",
       "\t12 & spectral\\_gap\\_M\\_E & (46.4188, 1.37625e-11) & (smallest nontruncated, largest truncated) eigval \\\\\n",
       "\t13 & rank\\_G\\_boundary & 10 &  \\\\\n",
       "\t14 & spectral\\_gap\\_G\\_boundary & (6.36244, 3.82639e-10) &  \\\\\n",
       "\\end{tabular}\n"
      ],
      "text/plain": [
       "\u001b[1m14×3 DataFrame\u001b[0m\n",
       "\u001b[1m Row \u001b[0m│\u001b[1m Parameter                  \u001b[0m\u001b[1m Value                  \u001b[0m\u001b[1m Explanation        \u001b[0m ⋯\n",
       "     │\u001b[90m Symbol                     \u001b[0m\u001b[90m Any                    \u001b[0m\u001b[90m String             \u001b[0m ⋯\n",
       "─────┼──────────────────────────────────────────────────────────────────────────\n",
       "   1 │ m                           10                      No. of addends      ⋯\n",
       "   2 │ n                           12                      No. of variables\n",
       "   3 │ k                           2                       degree\n",
       "   4 │ solver                      Mosek                   SDP solver\n",
       "   5 │ solve_time                  0.0640685               SDP solve time for  ⋯\n",
       "   6 │ digits                      7                       Threshold for trunc\n",
       "   7 │ uniquely_sos_representable  true\n",
       "   8 │ dual_nondegenerate          true                    Whether f lies on e\n",
       "   9 │ dim_sosupp                  10                                          ⋯\n",
       "  10 │ spectral_gap_G              (6.36244, 2.11238e-12)  (smallest nontrunca\n",
       "  11 │ corank_dual                 10                      corank of M_E\n",
       "  12 │ spectral_gap_M_E            (46.4188, 1.37625e-11)  (smallest nontrunca\n",
       "  13 │ rank_G_boundary             10                                          ⋯\n",
       "  14 │ spectral_gap_G_boundary     (6.36244, 3.82639e-10)\n",
       "\u001b[36m                                                                1 column omitted\u001b[0m"
      ]
     },
     "execution_count": 4,
     "metadata": {},
     "output_type": "execute_result"
    }
   ],
   "source": [
    "s = calc_sos_attributes(f₂; digits=ranktol, solver=default_solver, feas_tolerance=feas_tolerance, opt_tolerance=opt_tolerance);\n",
    "df = report(s, m; transpose=false)"
   ]
  },
  {
   "attachments": {},
   "cell_type": "markdown",
   "metadata": {},
   "source": [
    "### Ex 2: Our family has a unique Powers-of-forms decomposition\n",
    "\n",
    "The family from `Ex 1` does also not satisfy any algebraic relations up to degree $3$. Setting \n",
    "$$\n",
    "    f_3 = \\sum_{\\substack{i,j,k=1, \\\\  i+j+k \\equiv_n 0}}^n q_{ijk}^3,\n",
    "$$\n",
    "it therefore follows that $f_2, f_3$ have a unique joint POF decomposition of (minimum) rank $m$. We are going to compute this decomposition. "
   ]
  },
  {
   "cell_type": "code",
   "execution_count": 5,
   "metadata": {},
   "outputs": [
    {
     "data": {
      "text/plain": [
       "(:f_2, :f_3, :k, :vars, :n, :q, :λ, :sosdata, :digits, :u, :N, :Y, :M_φ1, :M_φ2, :M_φ3, :ℓ, :g_2, :g_3)"
      ]
     },
     "execution_count": 5,
     "metadata": {},
     "output_type": "execute_result"
    }
   ],
   "source": [
    "include(\"src/pof-decomp.jl\");\n",
    "f₃ = sum(λ[i]*q[i]^3 for i=1:m);\n",
    "pof_dec = pof_decompose(f₂, f₃);\n",
    "fieldnames(typeof(pof_dec)) # pof_dec is an object storing all the intermediate quantities used in the algorithm. "
   ]
  },
  {
   "attachments": {},
   "cell_type": "markdown",
   "metadata": {},
   "source": [
    "`pof_decompose` returns a `PofDecomposition` object. Its fields `q` and `λ` are the addends and weights. We can check that `pof_dec.q` is indeed a decomposition of `f₃`, up to numerical errors.  "
   ]
  },
  {
   "cell_type": "code",
   "execution_count": 9,
   "metadata": {},
   "outputs": [
    {
     "data": {
      "text/latex": [
       "$$ 0.0 $$"
      ],
      "text/plain": [
       "0.0"
      ]
     },
     "metadata": {},
     "output_type": "display_data"
    },
    {
     "data": {
      "text/plain": [
       "10×2 Matrix{Polynomial{true, Float64}}:\n",
       " 9.0X₂Y₂                                                       …  9.0X₆Y₆\n",
       " X₁Y₁ + X₁Y₂ + X₁Y₃ + X₂Y₁ + X₂Y₂ + X₂Y₃ + X₃Y₁ + X₃Y₂ + X₃Y₃     9.0X₂Y₂\n",
       " 4.0X₁Y₁ + 2.0X₁Y₄ + 2.0X₄Y₁ + X₄Y₄                               4.0X₃Y₃ + 2.0X₃Y₆ + 2.0X₆Y₃ + X₆Y₆\n",
       " 9.0X₄Y₄                                                          X₁Y₁ + X₁Y₅ + X₁Y₆ + X₅Y₁ + X₅Y₅ + X₅Y₆ + X₆Y₁ + X₆Y₅ + X₆Y₆\n",
       " X₃Y₃ + X₃Y₄ + X₃Y₅ + X₄Y₃ + X₄Y₄ + X₄Y₅ + X₅Y₃ + X₅Y₄ + X₅Y₅     X₂Y₂ + 2.0X₂Y₅ + 2.0X₅Y₂ + 4.0X₅Y₅\n",
       " X₂Y₂ + 2.0X₂Y₅ + 2.0X₅Y₂ + 4.0X₅Y₅                            …  X₂Y₂ + X₂Y₄ + X₂Y₆ + X₄Y₂ + X₄Y₄ + X₄Y₆ + X₆Y₂ + X₆Y₄ + X₆Y₆\n",
       " 4.0X₃Y₃ + 2.0X₃Y₆ + 2.0X₆Y₃ + X₆Y₆                               X₁Y₁ + X₁Y₂ + X₁Y₃ + X₂Y₁ + X₂Y₂ + X₂Y₃ + X₃Y₁ + X₃Y₂ + X₃Y₃\n",
       " X₂Y₂ + X₂Y₄ + X₂Y₆ + X₄Y₂ + X₄Y₄ + X₄Y₆ + X₆Y₂ + X₆Y₄ + X₆Y₆     4.0X₁Y₁ + 2.0X₁Y₄ + 2.0X₄Y₁ + X₄Y₄\n",
       " X₁Y₁ + X₁Y₅ + X₁Y₆ + X₅Y₁ + X₅Y₅ + X₅Y₆ + X₆Y₁ + X₆Y₅ + X₆Y₆     X₃Y₃ + X₃Y₄ + X₃Y₅ + X₄Y₃ + X₄Y₄ + X₄Y₅ + X₅Y₃ + X₅Y₄ + X₅Y₅\n",
       " 9.0X₆Y₆                                                          9.0X₄Y₄"
      ]
     },
     "execution_count": 9,
     "metadata": {},
     "output_type": "execute_result"
    }
   ],
   "source": [
    "q_rounded = round.(pof_dec.q, digits=8);\n",
    "λ_rounded = round.(pof_dec.λ, digits=8);\n",
    "display(f₃ - sum(λ_rounded[i]*q_rounded[i]^3 for i=1:m)) # == 0, verifies that q and q_rounded are both decompositions. \n",
    "[q q_rounded] # same up to permutation"
   ]
  },
  {
   "attachments": {},
   "cell_type": "markdown",
   "metadata": {},
   "source": [
    "Since in our original solution, both `q` and `λ` had integer coefficients, we can recover them exactly by rounding. It is maybe not obvious to see that the original `q` and the computed solution `q_rounded` are equal up to permutation. For such situations, we have the convenience function `polycompare`, which sorts the output vectors by comparing leading terms and their coefficients. Note that this only makes sense after rounding away the numerical errors. "
   ]
  },
  {
   "cell_type": "code",
   "execution_count": 59,
   "metadata": {},
   "outputs": [
    {
     "data": {
      "text/plain": [
       "10×2 Matrix{Polynomial{true, Float64}}:\n",
       " 9.0X₆Y₆                                                       …  9.0X₆Y₆\n",
       " 9.0X₄Y₄                                                          9.0X₄Y₄\n",
       " X₃Y₃ + X₃Y₄ + X₃Y₅ + X₄Y₃ + X₄Y₄ + X₄Y₅ + X₅Y₃ + X₅Y₄ + X₅Y₅     X₃Y₃ + X₃Y₄ + X₃Y₅ + X₄Y₃ + X₄Y₄ + X₄Y₅ + X₅Y₃ + X₅Y₄ + X₅Y₅\n",
       " 4.0X₃Y₃ + 2.0X₃Y₆ + 2.0X₆Y₃ + X₆Y₆                               4.0X₃Y₃ + 2.0X₃Y₆ + 2.0X₆Y₃ + X₆Y₆\n",
       " X₂Y₂ + 2.0X₂Y₅ + 2.0X₅Y₂ + 4.0X₅Y₅                               X₂Y₂ + 2.0X₂Y₅ + 2.0X₅Y₂ + 4.0X₅Y₅\n",
       " X₂Y₂ + X₂Y₄ + X₂Y₆ + X₄Y₂ + X₄Y₄ + X₄Y₆ + X₆Y₂ + X₆Y₄ + X₆Y₆  …  X₂Y₂ + X₂Y₄ + X₂Y₆ + X₄Y₂ + X₄Y₄ + X₄Y₆ + X₆Y₂ + X₆Y₄ + X₆Y₆\n",
       " 9.0X₂Y₂                                                          9.0X₂Y₂\n",
       " X₁Y₁ + X₁Y₅ + X₁Y₆ + X₅Y₁ + X₅Y₅ + X₅Y₆ + X₆Y₁ + X₆Y₅ + X₆Y₆     X₁Y₁ + X₁Y₅ + X₁Y₆ + X₅Y₁ + X₅Y₅ + X₅Y₆ + X₆Y₁ + X₆Y₅ + X₆Y₆\n",
       " X₁Y₁ + X₁Y₂ + X₁Y₃ + X₂Y₁ + X₂Y₂ + X₂Y₃ + X₃Y₁ + X₃Y₂ + X₃Y₃     X₁Y₁ + X₁Y₂ + X₁Y₃ + X₂Y₁ + X₂Y₂ + X₂Y₃ + X₃Y₁ + X₃Y₂ + X₃Y₃\n",
       " 4.0X₁Y₁ + 2.0X₁Y₄ + 2.0X₄Y₁ + X₄Y₄                               4.0X₁Y₁ + 2.0X₁Y₄ + 2.0X₄Y₁ + X₄Y₄"
      ]
     },
     "execution_count": 59,
     "metadata": {},
     "output_type": "execute_result"
    }
   ],
   "source": [
    "sort!(q; lt=polycompare);\n",
    "sort!(q_rounded; lt=polycompare);\n",
    "[q q_rounded] # same up to permutation"
   ]
  },
  {
   "attachments": {},
   "cell_type": "markdown",
   "metadata": {},
   "source": [
    "## Ex 3: Jennrich's algorithm\n",
    "\n",
    "One important tool for the present pof-decomposition algorithm is the classical result, often attributed to R. Jennrich.  "
   ]
  },
  {
   "cell_type": "code",
   "execution_count": 20,
   "metadata": {},
   "outputs": [
    {
     "data": {
      "text/plain": [
       "3×2 Matrix{Polynomial{true, Float64}}:\n",
       " Y₁             1.0\n",
       " Y₂ + Y₃        4.0\n",
       " -Y₁ + Y₂ - Y₃  3.0"
      ]
     },
     "execution_count": 20,
     "metadata": {},
     "output_type": "execute_result"
    }
   ],
   "source": [
    "a_1 = [ 1; 0;  0; 0; 0; 0];\n",
    "a_2 = [ 0; 1;  1; 0; 0; 0];\n",
    "a_3 = [-1; 1; -1; 0; 0; 0];\n",
    "λ = [1 2 3];\n",
    "a = [a_1, a_2, a_3];\n",
    "g_2 = sum(λ[i]*(a[i]⋅Y)^2 for i=1:length(a));\n",
    "g_3 = sum(λ[i]*(a[i]⋅Y)^3 for i=1:length(a));\n",
    "ℓ, λ = positive_weighted_jennrich(g_2, g_3);\n",
    "ℓ_rounded = [round.(ℓ[i], digits=7) for i=1:length(a)];\n",
    "λ_rounded = round.(λ, digits=7);\n",
    "[ℓ_rounded λ_rounded]\n"
   ]
  },
  {
   "cell_type": "code",
   "execution_count": null,
   "metadata": {},
   "outputs": [],
   "source": [
    "[ℓ_rounded λ_rounded]\n"
   ]
  }
 ],
 "metadata": {
  "kernelspec": {
   "display_name": "Julia 1.8.4",
   "language": "julia",
   "name": "julia-1.8"
  },
  "language_info": {
   "file_extension": ".jl",
   "mimetype": "application/julia",
   "name": "julia",
   "version": "1.8.4"
  }
 },
 "nbformat": 4,
 "nbformat_minor": 4
}
